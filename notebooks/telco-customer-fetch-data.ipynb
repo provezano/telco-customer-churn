{
 "cells": [
  {
   "cell_type": "markdown",
   "metadata": {},
   "source": [
    "# Telco Customer Churn"
   ]
  },
  {
   "cell_type": "markdown",
   "metadata": {},
   "source": [
    "### Download the data\n",
    "\n",
    "Description: This notebook only downloads the data I'll use for this project."
   ]
  },
  {
   "cell_type": "markdown",
   "metadata": {},
   "source": [
    "## 1. Libraries"
   ]
  },
  {
   "cell_type": "code",
   "execution_count": 12,
   "metadata": {},
   "outputs": [
    {
     "data": {
      "text/plain": [
       "True"
      ]
     },
     "execution_count": 12,
     "metadata": {},
     "output_type": "execute_result"
    }
   ],
   "source": [
    "import os\n",
    "import logging \n",
    "import zipfile\n",
    "from dotenv import load_dotenv\n",
    "\n",
    "load_dotenv()"
   ]
  },
  {
   "cell_type": "markdown",
   "metadata": {},
   "source": [
    "## 2. Functions"
   ]
  },
  {
   "cell_type": "code",
   "execution_count": 2,
   "metadata": {},
   "outputs": [],
   "source": [
    "def download_data_from_kaggle(dataset_name = 'telco-customer-churn.zip'):\n",
    "    \"\"\"\n",
    "    Downloads and extracts a dataset from Kaggle.\n",
    "\n",
    "    Args:\n",
    "        dataset_name (str): The name of the dataset to download.\n",
    "\n",
    "    Raises:\n",
    "        FileNotFoundError: If the dataset is not found.\n",
    "        zipfile.BadZipFile: If the downloaded file is not a valid ZIP file.\n",
    "        Exception: For other unforeseen errors.\n",
    "    \"\"\"\n",
    "    try:\n",
    "        if os.system(\"kaggle datasets download blastchar/telco-customer-churn\"):\n",
    "            raise Exception(\"Kaggle CLI failed to download the dataset.\")\n",
    "        \n",
    "        os.makedirs('../data', exist_ok=True)\n",
    "\n",
    "        with zipfile.ZipFile(dataset_name, 'r') as zip_ref:\n",
    "            zip_ref.extractall('../data')\n",
    "\n",
    "        os.remove(dataset_name)\n",
    "    except (FileNotFoundError, zipfile.BadZipFile) as e:\n",
    "        logging.error('Error with the dataset file. %s', e)\n",
    "        raise\n",
    "    except Exception as e:\n",
    "        logging.error('Error trying to download the dataset. %s', e)\n",
    "        raise\n",
    "    finally:\n",
    "        if os.path.exists(dataset_name):\n",
    "            os.remove(dataset_name)"
   ]
  },
  {
   "cell_type": "markdown",
   "metadata": {},
   "source": [
    "## 3. Downloading the dataset"
   ]
  },
  {
   "cell_type": "code",
   "execution_count": null,
   "metadata": {},
   "outputs": [],
   "source": [
    "download_data_from_kaggle()"
   ]
  }
 ],
 "metadata": {
  "kernelspec": {
   "display_name": "churn-dev",
   "language": "python",
   "name": "python3"
  },
  "language_info": {
   "codemirror_mode": {
    "name": "ipython",
    "version": 3
   },
   "file_extension": ".py",
   "mimetype": "text/x-python",
   "name": "python",
   "nbconvert_exporter": "python",
   "pygments_lexer": "ipython3",
   "version": "3.12.1"
  }
 },
 "nbformat": 4,
 "nbformat_minor": 2
}
